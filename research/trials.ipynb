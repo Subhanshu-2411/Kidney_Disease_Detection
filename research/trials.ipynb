{
 "cells": [
  {
   "cell_type": "code",
   "execution_count": 1,
   "id": "initial_id",
   "metadata": {
    "collapsed": true,
    "ExecuteTime": {
     "end_time": "2023-10-08T19:15:04.193724800Z",
     "start_time": "2023-10-08T19:15:02.525054100Z"
    }
   },
   "outputs": [],
   "source": [
    "import gdown"
   ]
  },
  {
   "cell_type": "code",
   "execution_count": 3,
   "outputs": [],
   "source": [
    "url=\"https://drive.google.com/1vlhZ5c7abUKF8xXERIw6m9Te8fW7ohw3/view?usp=sharing\""
   ],
   "metadata": {
    "collapsed": false,
    "ExecuteTime": {
     "end_time": "2023-10-08T19:15:31.366228900Z",
     "start_time": "2023-10-08T19:15:31.355696400Z"
    }
   },
   "id": "d838d418ec82071f"
  },
  {
   "cell_type": "code",
   "execution_count": 6,
   "outputs": [],
   "source": [
    "file = url.split(\"/\")[-2]\n",
    "prefix = \"https://drive.google.com/uc?/export=download&id=\""
   ],
   "metadata": {
    "collapsed": false,
    "ExecuteTime": {
     "end_time": "2023-10-08T19:21:52.391761100Z",
     "start_time": "2023-10-08T19:21:52.376446700Z"
    }
   },
   "id": "95bc629aef213660"
  },
  {
   "cell_type": "code",
   "execution_count": 7,
   "outputs": [
    {
     "name": "stderr",
     "output_type": "stream",
     "text": [
      "Downloading...\n",
      "From (uriginal): https://drive.google.com/uc?/export=download&id=1vlhZ5c7abUKF8xXERIw6m9Te8fW7ohw3\n",
      "From (redirected): https://drive.google.com/uc?/export=download&id=1vlhZ5c7abUKF8xXERIw6m9Te8fW7ohw3&confirm=t&uuid=a095c285-e6f2-42d0-975a-acdfccfafdea\n",
      "To: D:\\Users\\subha\\PycharmProjects\\Krish_Naik\\Kidney_Disease_Detection\\research\\kidney-ct-scan-image.zip\n",
      "100%|██████████| 57.7M/57.7M [00:06<00:00, 9.59MB/s]\n"
     ]
    },
    {
     "data": {
      "text/plain": "'kidney-ct-scan-image.zip'"
     },
     "execution_count": 7,
     "metadata": {},
     "output_type": "execute_result"
    }
   ],
   "source": [
    "gdown.download(prefix+file, )"
   ],
   "metadata": {
    "collapsed": false,
    "ExecuteTime": {
     "end_time": "2023-10-08T19:22:03.201578Z",
     "start_time": "2023-10-08T19:21:53.725532800Z"
    }
   },
   "id": "3ab5687dd677acef"
  },
  {
   "cell_type": "code",
   "execution_count": null,
   "outputs": [],
   "source": [],
   "metadata": {
    "collapsed": false
   },
   "id": "e18f199ee3cf6f63"
  }
 ],
 "metadata": {
  "kernelspec": {
   "display_name": "Python 3",
   "language": "python",
   "name": "python3"
  },
  "language_info": {
   "codemirror_mode": {
    "name": "ipython",
    "version": 2
   },
   "file_extension": ".py",
   "mimetype": "text/x-python",
   "name": "python",
   "nbconvert_exporter": "python",
   "pygments_lexer": "ipython2",
   "version": "2.7.6"
  }
 },
 "nbformat": 4,
 "nbformat_minor": 5
}
